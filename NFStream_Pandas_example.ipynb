{
 "cells": [
  {
   "cell_type": "markdown",
   "metadata": {},
   "source": [
    "# NFStream: a Flexible Network Data Analysis Framework"
   ]
  },
  {
   "cell_type": "code",
   "execution_count": 2,
   "metadata": {},
   "outputs": [],
   "source": [
    "import nfstream\n",
    "from nfstream import NFStreamer, NFPlugin\n",
    "import pandas as pd\n",
    "pd.set_option('display.max_columns', 500)\n",
    "pd.set_option('display.max_rows', 500)\n",
    "import matplotlib.pyplot as plt\n"
   ]
  },
  {
   "cell_type": "markdown",
   "metadata": {},
   "source": [
    "[**NFStream**][repo] is a Python framework providing fast, flexible, and expressive data structures designed to make  working with **online** or **offline** network data both easy and intuitive. It aims to be the fundamental high-level  building block for doing practical, **real world** network data analysis in Python. Additionally, it has the broader goal of becoming **a common network data analytics framework for researchers** providing data reproducibility across experiments.\n",
    "\n",
    "* **Performance:** NFStream is designed to be fast: parallel processing, native C \n",
    "(using [**CFFI**][cffi]) for critical computation and [**PyPy**][pypy] support.\n",
    "* **Encrypted layer-7 visibility:** NFStream deep packet inspection is based on [**nDPI**][ndpi]. \n",
    "It allows NFStream to perform [**reliable**][reliable] encrypted applications identification and metadata \n",
    "fingerprinting (e.g. TLS, SSH, DHCP, HTTP).\n",
    "* **Statistical features extraction:** NFStream provides state of the art of flow-based statistical feature extraction. \n",
    "It includes both post-mortem statistical features (e.g. min, mean, stddev and max of packet size and inter arrival time) \n",
    "and early flow features (e.g. sequence of first n packets sizes, inter arrival times and\n",
    "directions).\n",
    "* **Flexibility:** NFStream is easily extensible using [**NFPlugins**][nfplugin]. It allows to create a new \n",
    "feature within a few lines of Python.\n",
    "* **Machine Learning oriented:** NFStream aims to make Machine Learning Approaches for network traffic management \n",
    "reproducible and deployable. By using NFStream as a common framework, researchers ensure that models are trained using \n",
    "the same feature computation logic and thus, a fair comparison is possible. Moreover, trained models can be deployed \n",
    "and evaluated on live network using [**NFPlugins**][nfplugin]. \n"
   ]
  },
  {
   "cell_type": "markdown",
   "metadata": {},
   "source": [
    "## Flow aggregation made simple"
   ]
  },
  {
   "cell_type": "markdown",
   "metadata": {},
   "source": [
    "In the following, we are going to use the main object provided by nfstream, `NFStreamer` which have the following parameters:\n",
    "\n",
    "* `source` [default=None]: Packet capture source. Pcap file path or network interface name.\n",
    "* `decode_tunnels` [default=True]: Enable/Disable GTP/TZSP tunnels decoding.\n",
    "* `bpf_filter` [default=None]: Specify a [BPF filter][bpf] filter for filtering selected traffic.\n",
    "* `promiscuous_mode` [default=True]: Enable/Disable promiscuous capture mode.\n",
    "* `snapshot_length` [default=1500]: Control packet slicing size (truncation) in bytes.\n",
    "* `idle_timeout` [default=15]: Flows that are idle (no packets received) for more than this value in seconds are expired.\n",
    "* `active_timeout` [default=1800]: Flows that are active for more than this value in seconds are expired.\n",
    "* `accounting_mode` [default=0] : Specify the accounting mode that will be used to report bytes related features (0: Link layer, 1: IP layer, 2: Transport layer, 3: Payload).\n",
    "* `udps` [default=None]: Specify user defined NFPlugins used to extend NFStreamer.\n",
    "* `n_dissections` | [default=20]: Number of per flow packets to dissect for L7 visibility feature. When set to 0, L7 visibility feature is disabled.\n",
    "* `statistical_analysis` [default=False]: Enable/Disable post-mortem flow statistical analysis.\n",
    "* `splt_analysis` [default=0]: Specify the sequence of first packets length for early statistical analysis. When set to 0, splt_analysis is disabled.\n",
    "* `n_meters` [default=0]: Specify the number of parallel metering processes. When set to 0, NFStreamer will automatically scale metering according to available physical cores on the running host.\n",
    "* `performance_report` [default=0]: [**Performance report**](https://github.com/nfstream/nfstream/blob/master/assets/PERFORMANCE_REPORT.md) interval in seconds. Disabled whhen set to 0. Ignored for offline capture.\n",
    "\n",
    "`NFStreamer` returns a flow iterator. We can iterate over flows or convert it directly to pandas Dataframe using `to_pandas()` method.\n",
    "\n",
    "[bpf]: https://biot.com/capstats/bpf.html"
   ]
  },
  {
   "cell_type": "code",
   "execution_count": 3,
   "metadata": {},
   "outputs": [],
   "source": [
    "df = NFStreamer(source=\"./pcaps/2017-05-18-traffic-analysis-exercise.pcap\").to_pandas()"
   ]
  },
  {
   "cell_type": "code",
   "execution_count": 4,
   "metadata": {},
   "outputs": [
    {
     "data": {
      "text/html": [
       "<div>\n",
       "<style scoped>\n",
       "    .dataframe tbody tr th:only-of-type {\n",
       "        vertical-align: middle;\n",
       "    }\n",
       "\n",
       "    .dataframe tbody tr th {\n",
       "        vertical-align: top;\n",
       "    }\n",
       "\n",
       "    .dataframe thead th {\n",
       "        text-align: right;\n",
       "    }\n",
       "</style>\n",
       "<table border=\"1\" class=\"dataframe\">\n",
       "  <thead>\n",
       "    <tr style=\"text-align: right;\">\n",
       "      <th></th>\n",
       "      <th>id</th>\n",
       "      <th>expiration_id</th>\n",
       "      <th>src_ip</th>\n",
       "      <th>src_mac</th>\n",
       "      <th>src_oui</th>\n",
       "      <th>src_port</th>\n",
       "      <th>dst_ip</th>\n",
       "      <th>dst_mac</th>\n",
       "      <th>dst_oui</th>\n",
       "      <th>dst_port</th>\n",
       "      <th>protocol</th>\n",
       "      <th>ip_version</th>\n",
       "      <th>vlan_id</th>\n",
       "      <th>tunnel_id</th>\n",
       "      <th>bidirectional_first_seen_ms</th>\n",
       "      <th>bidirectional_last_seen_ms</th>\n",
       "      <th>bidirectional_duration_ms</th>\n",
       "      <th>bidirectional_packets</th>\n",
       "      <th>bidirectional_bytes</th>\n",
       "      <th>src2dst_first_seen_ms</th>\n",
       "      <th>src2dst_last_seen_ms</th>\n",
       "      <th>src2dst_duration_ms</th>\n",
       "      <th>src2dst_packets</th>\n",
       "      <th>src2dst_bytes</th>\n",
       "      <th>dst2src_first_seen_ms</th>\n",
       "      <th>dst2src_last_seen_ms</th>\n",
       "      <th>dst2src_duration_ms</th>\n",
       "      <th>dst2src_packets</th>\n",
       "      <th>dst2src_bytes</th>\n",
       "      <th>application_name</th>\n",
       "      <th>application_category_name</th>\n",
       "      <th>application_is_guessed</th>\n",
       "      <th>requested_server_name</th>\n",
       "      <th>client_fingerprint</th>\n",
       "      <th>server_fingerprint</th>\n",
       "      <th>user_agent</th>\n",
       "      <th>content_type</th>\n",
       "    </tr>\n",
       "  </thead>\n",
       "  <tbody>\n",
       "    <tr>\n",
       "      <th>0</th>\n",
       "      <td>0</td>\n",
       "      <td>0</td>\n",
       "      <td>172.16.8.38</td>\n",
       "      <td>84:8f:69:71:94:ae</td>\n",
       "      <td>84:8f:69</td>\n",
       "      <td>52598</td>\n",
       "      <td>224.0.0.252</td>\n",
       "      <td>01:00:5e:00:00:fc</td>\n",
       "      <td>01:00:5e</td>\n",
       "      <td>5355</td>\n",
       "      <td>17</td>\n",
       "      <td>4</td>\n",
       "      <td>0</td>\n",
       "      <td>0</td>\n",
       "      <td>1495143869692</td>\n",
       "      <td>1495143869785</td>\n",
       "      <td>93</td>\n",
       "      <td>2</td>\n",
       "      <td>148</td>\n",
       "      <td>1495143869692</td>\n",
       "      <td>1495143869785</td>\n",
       "      <td>93</td>\n",
       "      <td>2</td>\n",
       "      <td>148</td>\n",
       "      <td>0</td>\n",
       "      <td>0</td>\n",
       "      <td>0</td>\n",
       "      <td>0</td>\n",
       "      <td>0</td>\n",
       "      <td>LLMNR</td>\n",
       "      <td>Network</td>\n",
       "      <td>0</td>\n",
       "      <td>finster-101-pc</td>\n",
       "      <td>NaN</td>\n",
       "      <td>NaN</td>\n",
       "      <td>NaN</td>\n",
       "      <td>NaN</td>\n",
       "    </tr>\n",
       "    <tr>\n",
       "      <th>1</th>\n",
       "      <td>1</td>\n",
       "      <td>0</td>\n",
       "      <td>172.16.8.38</td>\n",
       "      <td>84:8f:69:71:94:ae</td>\n",
       "      <td>84:8f:69</td>\n",
       "      <td>57570</td>\n",
       "      <td>172.16.8.1</td>\n",
       "      <td>00:0e:d7:d3:a1:42</td>\n",
       "      <td>00:0e:d7</td>\n",
       "      <td>53</td>\n",
       "      <td>17</td>\n",
       "      <td>4</td>\n",
       "      <td>0</td>\n",
       "      <td>0</td>\n",
       "      <td>1495143869692</td>\n",
       "      <td>1495143869719</td>\n",
       "      <td>27</td>\n",
       "      <td>2</td>\n",
       "      <td>172</td>\n",
       "      <td>1495143869692</td>\n",
       "      <td>1495143869692</td>\n",
       "      <td>0</td>\n",
       "      <td>1</td>\n",
       "      <td>78</td>\n",
       "      <td>1495143869719</td>\n",
       "      <td>1495143869719</td>\n",
       "      <td>0</td>\n",
       "      <td>1</td>\n",
       "      <td>94</td>\n",
       "      <td>DNS</td>\n",
       "      <td>Network</td>\n",
       "      <td>0</td>\n",
       "      <td>isatap.localdomain</td>\n",
       "      <td>NaN</td>\n",
       "      <td>NaN</td>\n",
       "      <td>NaN</td>\n",
       "      <td>NaN</td>\n",
       "    </tr>\n",
       "    <tr>\n",
       "      <th>2</th>\n",
       "      <td>2</td>\n",
       "      <td>0</td>\n",
       "      <td>172.16.8.38</td>\n",
       "      <td>84:8f:69:71:94:ae</td>\n",
       "      <td>84:8f:69</td>\n",
       "      <td>50346</td>\n",
       "      <td>224.0.0.252</td>\n",
       "      <td>01:00:5e:00:00:fc</td>\n",
       "      <td>01:00:5e</td>\n",
       "      <td>5355</td>\n",
       "      <td>17</td>\n",
       "      <td>4</td>\n",
       "      <td>0</td>\n",
       "      <td>0</td>\n",
       "      <td>1495143869984</td>\n",
       "      <td>1495143870086</td>\n",
       "      <td>102</td>\n",
       "      <td>2</td>\n",
       "      <td>148</td>\n",
       "      <td>1495143869984</td>\n",
       "      <td>1495143870086</td>\n",
       "      <td>102</td>\n",
       "      <td>2</td>\n",
       "      <td>148</td>\n",
       "      <td>0</td>\n",
       "      <td>0</td>\n",
       "      <td>0</td>\n",
       "      <td>0</td>\n",
       "      <td>0</td>\n",
       "      <td>LLMNR</td>\n",
       "      <td>Network</td>\n",
       "      <td>0</td>\n",
       "      <td>finster-101-pc</td>\n",
       "      <td>NaN</td>\n",
       "      <td>NaN</td>\n",
       "      <td>NaN</td>\n",
       "      <td>NaN</td>\n",
       "    </tr>\n",
       "    <tr>\n",
       "      <th>3</th>\n",
       "      <td>3</td>\n",
       "      <td>0</td>\n",
       "      <td>172.16.8.38</td>\n",
       "      <td>84:8f:69:71:94:ae</td>\n",
       "      <td>84:8f:69</td>\n",
       "      <td>53580</td>\n",
       "      <td>224.0.0.252</td>\n",
       "      <td>01:00:5e:00:00:fc</td>\n",
       "      <td>01:00:5e</td>\n",
       "      <td>5355</td>\n",
       "      <td>17</td>\n",
       "      <td>4</td>\n",
       "      <td>0</td>\n",
       "      <td>0</td>\n",
       "      <td>1495143871377</td>\n",
       "      <td>1495143871481</td>\n",
       "      <td>104</td>\n",
       "      <td>2</td>\n",
       "      <td>148</td>\n",
       "      <td>1495143871377</td>\n",
       "      <td>1495143871481</td>\n",
       "      <td>104</td>\n",
       "      <td>2</td>\n",
       "      <td>148</td>\n",
       "      <td>0</td>\n",
       "      <td>0</td>\n",
       "      <td>0</td>\n",
       "      <td>0</td>\n",
       "      <td>0</td>\n",
       "      <td>LLMNR</td>\n",
       "      <td>Network</td>\n",
       "      <td>0</td>\n",
       "      <td>finster-101-pc</td>\n",
       "      <td>NaN</td>\n",
       "      <td>NaN</td>\n",
       "      <td>NaN</td>\n",
       "      <td>NaN</td>\n",
       "    </tr>\n",
       "    <tr>\n",
       "      <th>4</th>\n",
       "      <td>4</td>\n",
       "      <td>0</td>\n",
       "      <td>172.16.8.38</td>\n",
       "      <td>84:8f:69:71:94:ae</td>\n",
       "      <td>84:8f:69</td>\n",
       "      <td>61413</td>\n",
       "      <td>224.0.0.252</td>\n",
       "      <td>01:00:5e:00:00:fc</td>\n",
       "      <td>01:00:5e</td>\n",
       "      <td>5355</td>\n",
       "      <td>17</td>\n",
       "      <td>4</td>\n",
       "      <td>0</td>\n",
       "      <td>0</td>\n",
       "      <td>1495143873066</td>\n",
       "      <td>1495143873166</td>\n",
       "      <td>100</td>\n",
       "      <td>2</td>\n",
       "      <td>148</td>\n",
       "      <td>1495143873066</td>\n",
       "      <td>1495143873166</td>\n",
       "      <td>100</td>\n",
       "      <td>2</td>\n",
       "      <td>148</td>\n",
       "      <td>0</td>\n",
       "      <td>0</td>\n",
       "      <td>0</td>\n",
       "      <td>0</td>\n",
       "      <td>0</td>\n",
       "      <td>LLMNR</td>\n",
       "      <td>Network</td>\n",
       "      <td>0</td>\n",
       "      <td>finster-101-pc</td>\n",
       "      <td>NaN</td>\n",
       "      <td>NaN</td>\n",
       "      <td>NaN</td>\n",
       "      <td>NaN</td>\n",
       "    </tr>\n",
       "  </tbody>\n",
       "</table>\n",
       "</div>"
      ],
      "text/plain": [
       "   id  expiration_id       src_ip            src_mac   src_oui  src_port  \\\n",
       "0   0              0  172.16.8.38  84:8f:69:71:94:ae  84:8f:69     52598   \n",
       "1   1              0  172.16.8.38  84:8f:69:71:94:ae  84:8f:69     57570   \n",
       "2   2              0  172.16.8.38  84:8f:69:71:94:ae  84:8f:69     50346   \n",
       "3   3              0  172.16.8.38  84:8f:69:71:94:ae  84:8f:69     53580   \n",
       "4   4              0  172.16.8.38  84:8f:69:71:94:ae  84:8f:69     61413   \n",
       "\n",
       "        dst_ip            dst_mac   dst_oui  dst_port  protocol  ip_version  \\\n",
       "0  224.0.0.252  01:00:5e:00:00:fc  01:00:5e      5355        17           4   \n",
       "1   172.16.8.1  00:0e:d7:d3:a1:42  00:0e:d7        53        17           4   \n",
       "2  224.0.0.252  01:00:5e:00:00:fc  01:00:5e      5355        17           4   \n",
       "3  224.0.0.252  01:00:5e:00:00:fc  01:00:5e      5355        17           4   \n",
       "4  224.0.0.252  01:00:5e:00:00:fc  01:00:5e      5355        17           4   \n",
       "\n",
       "   vlan_id  tunnel_id  bidirectional_first_seen_ms  \\\n",
       "0        0          0                1495143869692   \n",
       "1        0          0                1495143869692   \n",
       "2        0          0                1495143869984   \n",
       "3        0          0                1495143871377   \n",
       "4        0          0                1495143873066   \n",
       "\n",
       "   bidirectional_last_seen_ms  bidirectional_duration_ms  \\\n",
       "0               1495143869785                         93   \n",
       "1               1495143869719                         27   \n",
       "2               1495143870086                        102   \n",
       "3               1495143871481                        104   \n",
       "4               1495143873166                        100   \n",
       "\n",
       "   bidirectional_packets  bidirectional_bytes  src2dst_first_seen_ms  \\\n",
       "0                      2                  148          1495143869692   \n",
       "1                      2                  172          1495143869692   \n",
       "2                      2                  148          1495143869984   \n",
       "3                      2                  148          1495143871377   \n",
       "4                      2                  148          1495143873066   \n",
       "\n",
       "   src2dst_last_seen_ms  src2dst_duration_ms  src2dst_packets  src2dst_bytes  \\\n",
       "0         1495143869785                   93                2            148   \n",
       "1         1495143869692                    0                1             78   \n",
       "2         1495143870086                  102                2            148   \n",
       "3         1495143871481                  104                2            148   \n",
       "4         1495143873166                  100                2            148   \n",
       "\n",
       "   dst2src_first_seen_ms  dst2src_last_seen_ms  dst2src_duration_ms  \\\n",
       "0                      0                     0                    0   \n",
       "1          1495143869719         1495143869719                    0   \n",
       "2                      0                     0                    0   \n",
       "3                      0                     0                    0   \n",
       "4                      0                     0                    0   \n",
       "\n",
       "   dst2src_packets  dst2src_bytes application_name application_category_name  \\\n",
       "0                0              0            LLMNR                   Network   \n",
       "1                1             94              DNS                   Network   \n",
       "2                0              0            LLMNR                   Network   \n",
       "3                0              0            LLMNR                   Network   \n",
       "4                0              0            LLMNR                   Network   \n",
       "\n",
       "   application_is_guessed requested_server_name client_fingerprint  \\\n",
       "0                       0        finster-101-pc                NaN   \n",
       "1                       0    isatap.localdomain                NaN   \n",
       "2                       0        finster-101-pc                NaN   \n",
       "3                       0        finster-101-pc                NaN   \n",
       "4                       0        finster-101-pc                NaN   \n",
       "\n",
       "  server_fingerprint user_agent content_type  \n",
       "0                NaN        NaN          NaN  \n",
       "1                NaN        NaN          NaN  \n",
       "2                NaN        NaN          NaN  \n",
       "3                NaN        NaN          NaN  \n",
       "4                NaN        NaN          NaN  "
      ]
     },
     "execution_count": 4,
     "metadata": {},
     "output_type": "execute_result"
    }
   ],
   "source": [
    "df.head()"
   ]
  },
  {
   "cell_type": "code",
   "execution_count": 5,
   "metadata": {},
   "outputs": [
    {
     "data": {
      "text/plain": [
       "<matplotlib.axes._subplots.AxesSubplot at 0x11948efd0>"
      ]
     },
     "execution_count": 5,
     "metadata": {},
     "output_type": "execute_result"
    },
    {
     "data": {
      "image/png": "[encoded data removed]",
      "text/plain": [
       "<Figure size 432x288 with 1 Axes>"
      ]
     },
     "metadata": {},
     "output_type": "display_data"
    }
   ],
   "source": [
    "df.application_name.value_counts().plot(kind='pie')"
   ]
  },
  {
   "cell_type": "code",
   "execution_count": 6,
   "metadata": {},
   "outputs": [
    {
     "name": "stdout",
     "output_type": "stream",
     "text": [
      "['Network' 'ConnCheck' 'Web' 'System' 'Collaborative' 'VoIP' 'Cloud']\n"
     ]
    },
    {
     "data": {
      "text/plain": [
       "<matplotlib.axes._subplots.AxesSubplot at 0x119c9a210>"
      ]
     },
     "execution_count": 6,
     "metadata": {},
     "output_type": "execute_result"
    },
    {
     "data": {
      "image/png": "[encoded data removed]",
      "text/plain": [
       "<Figure size 432x288 with 1 Axes>"
      ]
     },
     "metadata": {},
     "output_type": "display_data"
    }
   ],
   "source": [
    "print(df.application_category_name.unique())\n",
    "df.application_category_name.value_counts().plot(kind='pie')"
   ]
  },
  {
   "cell_type": "code",
   "execution_count": 7,
   "metadata": {},
   "outputs": [
    {
     "name": "stdout",
     "output_type": "stream",
     "text": [
      "['172.16.8.38' '172.16.8.254' '23.215.99.86' '52.84.113.251'\n",
      " '216.130.37.162']\n"
     ]
    },
    {
     "data": {
      "text/plain": [
       "<matplotlib.axes._subplots.AxesSubplot at 0x119d5a990>"
      ]
     },
     "execution_count": 7,
     "metadata": {},
     "output_type": "execute_result"
    },
    {
     "data": {
      "image/png": "[encoded data removed]",
      "text/plain": [
       "<Figure size 432x288 with 1 Axes>"
      ]
     },
     "metadata": {},
     "output_type": "display_data"
    }
   ],
   "source": [
    "print(df.src_ip.unique())\n",
    "df.src_ip.value_counts().plot(kind='pie')"
   ]
  }
 ],
 "metadata": {
  "kernelspec": {
   "display_name": "Python 3",
   "language": "python",
   "name": "python3"
  },
  "language_info": {
   "codemirror_mode": {
    "name": "ipython",
    "version": 3
   },
   "file_extension": ".py",
   "mimetype": "text/x-python",
   "name": "python",
   "nbconvert_exporter": "python",
   "pygments_lexer": "ipython3",
   "version": "3.7.4"
  }
 },
 "nbformat": 4,
 "nbformat_minor": 4
}
